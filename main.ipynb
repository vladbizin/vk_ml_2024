{
 "cells": [
  {
   "cell_type": "markdown",
   "metadata": {},
   "source": [
    "Подключаем нужные модули"
   ]
  },
  {
   "cell_type": "code",
   "execution_count": 1,
   "metadata": {},
   "outputs": [],
   "source": [
    "import pandas as pd\n",
    "import numpy as np\n",
    "from sklearn.preprocessing import OrdinalEncoder\n",
    "\n",
    "from catboost import CatBoostRanker, Pool\n",
    "import optuna\n",
    "\n",
    "from utils import (\n",
    "    select_duplicates,\n",
    "    select_corr_columns,\n",
    "    grouped_train_test_split,\n",
    "    ranker_cv_auc_score,\n",
    "    ranker_cv_ndcg_score\n",
    ")"
   ]
  },
  {
   "cell_type": "markdown",
   "metadata": {},
   "source": [
    "Считываем данные, сразу разделяем на X и y"
   ]
  },
  {
   "cell_type": "code",
   "execution_count": 2,
   "metadata": {},
   "outputs": [],
   "source": [
    "train_df = pd.read_csv('train_df.csv')\n",
    "X_train = train_df.drop(columns=['search_id', 'target'])\n",
    "train_id = train_df['search_id']\n",
    "y_train = train_df['target']\n",
    "\n",
    "test_final_df = pd.read_csv('test_df.csv')\n",
    "X_test_final = test_final_df.drop(columns=['search_id', 'target'])\n",
    "test_final_id = test_final_df['search_id']\n",
    "y_test_final = test_final_df['target']"
   ]
  },
  {
   "cell_type": "markdown",
   "metadata": {},
   "source": [
    "Сразу избавляемся от аттрибутов с неуникальными значениями"
   ]
  },
  {
   "cell_type": "code",
   "execution_count": 3,
   "metadata": {},
   "outputs": [],
   "source": [
    "dup_cols = select_duplicates(X_train, X_test_final)\n",
    "X_train.drop(columns=dup_cols, inplace=True)\n",
    "X_test_final.drop(columns=dup_cols, inplace=True)"
   ]
  },
  {
   "cell_type": "markdown",
   "metadata": {},
   "source": [
    "Затем избавляемся от аттрибутов с большой корреляцией (>0.9) (оставляем только один аттрибут из группы коррелирующих)"
   ]
  },
  {
   "cell_type": "code",
   "execution_count": 4,
   "metadata": {},
   "outputs": [],
   "source": [
    "corr_cols = select_corr_columns(X_train, X_test_final, 0.9)\n",
    "X_train.drop(columns=corr_cols, inplace=True)\n",
    "X_test_final.drop(columns=corr_cols, inplace=True)"
   ]
  },
  {
   "cell_type": "markdown",
   "metadata": {},
   "source": [
    "Заранее запомним, какие аттрибуты категориальные, а какие - нет  \n",
    "(мы их так разделили не только по dtype. в действительности, если посмотреть количество уникальных значений, где dtype = int, то они не будут превышать 10-20)"
   ]
  },
  {
   "cell_type": "code",
   "execution_count": 5,
   "metadata": {},
   "outputs": [],
   "source": [
    "cat_columns = X_train.columns[X_train.dtypes==np.int64]\n",
    "num_columns = X_train.columns[X_train.dtypes==np.float64]"
   ]
  },
  {
   "cell_type": "markdown",
   "metadata": {},
   "source": [
    "Закодируем картегориальные значения"
   ]
  },
  {
   "cell_type": "code",
   "execution_count": null,
   "metadata": {},
   "outputs": [],
   "source": [
    "oe = OrdinalEncoder(handle_unknown='use_encoded_value',\n",
    "                    unknown_value=np.nan)\n",
    "\n",
    "X_train.iloc[:] = oe.fit_transform(X_train)\n",
    "X_test_final[:] = oe.transform(X_test_final)\n",
    "\n",
    "X_train[cat_columns] = X_train[cat_columns].astype(np.int64)\n",
    "X_test_final[cat_columns] = X_test_final[cat_columns].astype(np.int64)"
   ]
  },
  {
   "cell_type": "markdown",
   "metadata": {},
   "source": [
    "Разобьем на train-validation-test, стратифицировать будем по колиечству ответов в запросе  \n",
    "Разобьем в соотношение train/val/split = 0.7 / 0.2 / 0.1"
   ]
  },
  {
   "cell_type": "code",
   "execution_count": 7,
   "metadata": {},
   "outputs": [],
   "source": [
    "X_train, X_test, y_train, y_test, train_id, test_id = grouped_train_test_split(X_train, y_train, train_id, 0.7)\n",
    "X_test, X_val, y_test, y_val, test_id, val_id = grouped_train_test_split(X_test, y_test, test_id, 1/3)"
   ]
  },
  {
   "cell_type": "markdown",
   "metadata": {},
   "source": [
    "### CatBoost Ranker YetiRankPairwise AUC  "
   ]
  },
  {
   "cell_type": "markdown",
   "metadata": {},
   "source": [
    "обучение"
   ]
  },
  {
   "cell_type": "code",
   "execution_count": 8,
   "metadata": {},
   "outputs": [],
   "source": [
    "def objective(trial):\n",
    "    params = {\n",
    "        'early_stopping_rounds': 100,\n",
    "        'loss_function': 'YetiRankPairwise', \n",
    "        'custom_metric': 'AUC',\n",
    "        'task_type': 'GPU',\n",
    "        'bootstrap_type': 'Bernoulli',\n",
    "        'verbose': False\n",
    "    }\n",
    "    \n",
    "    suggested_params = {\n",
    "        \"n_estimators\": trial.suggest_int(\"n_estimators\", 10, 50),\n",
    "        \"learning_rate\": trial.suggest_float(\"learning_rate\", 1e-2, 0.1, log=True),\n",
    "        \"depth\": trial.suggest_int(\"depth\", 5, 8),\n",
    "        \"subsample\": trial.suggest_float(\"subsample\", 0.4, 0.6),\n",
    "        \"min_data_in_leaf\": trial.suggest_int(\"min_data_in_leaf\", 1, 20)\n",
    "    }\n",
    "    \n",
    "    params.update(suggested_params)\n",
    "    \n",
    "    model = CatBoostRanker(**params)\n",
    "\n",
    "    return ranker_cv_auc_score(model,\n",
    "                               X_train, y_train, train_id,\n",
    "                               X_val, y_val, val_id,\n",
    "                               cat_columns).mean()"
   ]
  },
  {
   "cell_type": "code",
   "execution_count": null,
   "metadata": {},
   "outputs": [],
   "source": [
    "study = optuna.create_study(direction='maximize')\n",
    "study.optimize(objective, n_trials=30)"
   ]
  },
  {
   "cell_type": "code",
   "execution_count": null,
   "metadata": {},
   "outputs": [
    {
     "name": "stdout",
     "output_type": "stream",
     "text": [
      "Best hyperparameters: {'n_estimators': 28, 'learning_rate': 0.01774006029045376, 'depth': 6, 'subsample': 0.4308044944153061, 'min_data_in_leaf': 10}\n",
      "Best AUC: 0.599637436536175\n"
     ]
    }
   ],
   "source": [
    "print('Best hyperparameters:', study.best_params)\n",
    "print('Best AUC:', study.best_value)"
   ]
  },
  {
   "cell_type": "markdown",
   "metadata": {},
   "source": [
    "тест"
   ]
  },
  {
   "cell_type": "code",
   "execution_count": 60,
   "metadata": {},
   "outputs": [],
   "source": [
    "params = {\n",
    "    'early_stopping_rounds': 100,\n",
    "    'loss_function': 'YetiRankPairwise', \n",
    "    'custom_metric': 'AUC',\n",
    "    'task_type': 'GPU',\n",
    "    'bootstrap_type': 'Bernoulli',\n",
    "    'verbose': False\n",
    "}\n",
    "\n",
    "suggested_params = {\n",
    "    \"n_estimators\": 28,\n",
    "    \"learning_rate\": 0.01774006029045376,\n",
    "    \"depth\": 6,\n",
    "    \"subsample\": 0.4308044944153061,\n",
    "    \"min_data_in_leaf\": 10\n",
    "}\n",
    "\n",
    "params.update(suggested_params)\n",
    "\n",
    "model = CatBoostRanker(**params)"
   ]
  },
  {
   "cell_type": "code",
   "execution_count": 61,
   "metadata": {},
   "outputs": [],
   "source": [
    "train = Pool(\n",
    "    data=X_train,\n",
    "    cat_features=list(cat_columns.values),\n",
    "    label=y_train,\n",
    "    feature_names=list(X_train.columns.values),\n",
    "    group_id=train_id\n",
    ")\n",
    "val = Pool(\n",
    "    data=X_val,\n",
    "    cat_features=list(cat_columns.values),\n",
    "    label=y_val,\n",
    "    feature_names=list(X_val.columns.values),\n",
    "    group_id=val_id\n",
    ")\n",
    "test = Pool(\n",
    "    data=X_test,\n",
    "    cat_features=list(cat_columns.values),\n",
    "    label=y_test,\n",
    "    feature_names=list(X_test.columns.values),\n",
    "    group_id=test_id\n",
    ")"
   ]
  },
  {
   "cell_type": "code",
   "execution_count": null,
   "metadata": {},
   "outputs": [],
   "source": [
    "model.fit(train, eval_set=val)"
   ]
  },
  {
   "cell_type": "code",
   "execution_count": 63,
   "metadata": {},
   "outputs": [
    {
     "data": {
      "text/plain": [
       "0.9027859217649313"
      ]
     },
     "execution_count": 63,
     "metadata": {},
     "output_type": "execute_result"
    }
   ],
   "source": [
    "model.score(test)"
   ]
  },
  {
   "cell_type": "markdown",
   "metadata": {},
   "source": [
    "### CatBoost Ranker PairLogitPairwise AUC"
   ]
  },
  {
   "cell_type": "markdown",
   "metadata": {},
   "source": [
    "обучение"
   ]
  },
  {
   "cell_type": "code",
   "execution_count": 170,
   "metadata": {},
   "outputs": [],
   "source": [
    "def objective(trial):\n",
    "    params = {\n",
    "        'early_stopping_rounds': 100,\n",
    "        'loss_function': 'PairLogitPairwise', \n",
    "        'custom_metric': 'AUC',\n",
    "        'task_type': 'GPU',\n",
    "        'bootstrap_type': 'Bernoulli',\n",
    "        'verbose': False\n",
    "    }\n",
    "    \n",
    "    suggested_params = {\n",
    "        \"n_estimators\": trial.suggest_int(\"n_estimators\", 10, 50),\n",
    "        \"learning_rate\": trial.suggest_float(\"learning_rate\", 1e-2, 0.1, log=True),\n",
    "        \"depth\": trial.suggest_int(\"depth\", 5, 8),\n",
    "        \"subsample\": trial.suggest_float(\"subsample\", 0.4, 0.6),\n",
    "        \"min_data_in_leaf\": trial.suggest_int(\"min_data_in_leaf\", 1, 20)\n",
    "    }\n",
    "    \n",
    "    params.update(suggested_params)\n",
    "    \n",
    "    model = CatBoostRanker(**params)\n",
    "\n",
    "    return ranker_cv_auc_score(model,\n",
    "                            X_train, y_train, train_id,\n",
    "                            X_val, y_val, val_id,\n",
    "                            cat_columns).mean()"
   ]
  },
  {
   "cell_type": "code",
   "execution_count": null,
   "metadata": {},
   "outputs": [],
   "source": [
    "study = optuna.create_study(direction='maximize')\n",
    "study.optimize(objective, n_trials=30)"
   ]
  },
  {
   "cell_type": "code",
   "execution_count": 172,
   "metadata": {},
   "outputs": [
    {
     "name": "stdout",
     "output_type": "stream",
     "text": [
      "Best hyperparameters: {'n_estimators': 38, 'learning_rate': 0.011993975094483486, 'depth': 6, 'subsample': 0.41913213006111993, 'min_data_in_leaf': 13}\n",
      "Best AUC: 0.587407825936172\n"
     ]
    }
   ],
   "source": [
    "print('Best hyperparameters:', study.best_params)\n",
    "print('Best AUC:', study.best_value)"
   ]
  },
  {
   "cell_type": "markdown",
   "metadata": {},
   "source": [
    "тест"
   ]
  },
  {
   "cell_type": "code",
   "execution_count": 44,
   "metadata": {},
   "outputs": [],
   "source": [
    "params = {\n",
    "    'early_stopping_rounds': 100,\n",
    "    'loss_function': 'PairLogitPairwise', \n",
    "    'custom_metric': 'AUC',\n",
    "    'task_type': 'GPU',\n",
    "    'bootstrap_type': 'Bernoulli',\n",
    "    'verbose': False\n",
    "}\n",
    "\n",
    "suggested_params = {\n",
    "    \"n_estimators\": 38,\n",
    "    \"learning_rate\": 0.011993975094483486,\n",
    "    \"depth\": 6,\n",
    "    \"subsample\": 0.41913213006111993,\n",
    "    \"min_data_in_leaf\": 13\n",
    "}\n",
    "\n",
    "params.update(suggested_params)\n",
    "\n",
    "model = CatBoostRanker(**params)"
   ]
  },
  {
   "cell_type": "code",
   "execution_count": 13,
   "metadata": {},
   "outputs": [],
   "source": [
    "train = Pool(\n",
    "    data=X_train,\n",
    "    cat_features=list(cat_columns.values),\n",
    "    label=y_train,\n",
    "    feature_names=list(X_train.columns.values),\n",
    "    group_id=train_id\n",
    ")\n",
    "val = Pool(\n",
    "    data=X_val,\n",
    "    cat_features=list(cat_columns.values),\n",
    "    label=y_val,\n",
    "    feature_names=list(X_val.columns.values),\n",
    "    group_id=val_id\n",
    ")\n",
    "test = Pool(\n",
    "    data=X_test,\n",
    "    cat_features=list(cat_columns.values),\n",
    "    label=y_test,\n",
    "    feature_names=list(X_test.columns.values),\n",
    "    group_id=test_id\n",
    ")"
   ]
  },
  {
   "cell_type": "code",
   "execution_count": null,
   "metadata": {},
   "outputs": [],
   "source": [
    "model.fit(train, eval_set=val)"
   ]
  },
  {
   "cell_type": "code",
   "execution_count": 15,
   "metadata": {},
   "outputs": [
    {
     "data": {
      "text/plain": [
       "0.8911608502259913"
      ]
     },
     "execution_count": 15,
     "metadata": {},
     "output_type": "execute_result"
    }
   ],
   "source": [
    "model.score(test)"
   ]
  },
  {
   "cell_type": "markdown",
   "metadata": {},
   "source": [
    "### CatBoost Ranker YetiRankPairwise NDCG"
   ]
  },
  {
   "cell_type": "markdown",
   "metadata": {},
   "source": [
    "обучение"
   ]
  },
  {
   "cell_type": "code",
   "execution_count": 181,
   "metadata": {},
   "outputs": [],
   "source": [
    "def objective(trial):\n",
    "    params = {\n",
    "        'early_stopping_rounds': 100,\n",
    "        'loss_function': 'YetiRankPairwise', \n",
    "        'custom_metric': 'NDCG',\n",
    "        'task_type': 'GPU',\n",
    "        'bootstrap_type': 'Bernoulli',\n",
    "        'verbose': False\n",
    "    }\n",
    "    \n",
    "    suggested_params = {\n",
    "        \"n_estimators\": trial.suggest_int(\"n_estimators\", 10, 50),\n",
    "        \"learning_rate\": trial.suggest_float(\"learning_rate\", 1e-2, 0.1, log=True),\n",
    "        \"depth\": trial.suggest_int(\"depth\", 5, 8),\n",
    "        \"subsample\": trial.suggest_float(\"subsample\", 0.4, 0.6),\n",
    "        \"min_data_in_leaf\": trial.suggest_int(\"min_data_in_leaf\", 1, 20)\n",
    "    }\n",
    "    \n",
    "    params.update(suggested_params)\n",
    "    \n",
    "    model = CatBoostRanker(**params)\n",
    "\n",
    "    return ranker_cv_ndcg_score(model,\n",
    "                                X_train, y_train, train_id,\n",
    "                                X_val, y_val, val_id,\n",
    "                                cat_columns).mean()"
   ]
  },
  {
   "cell_type": "code",
   "execution_count": null,
   "metadata": {},
   "outputs": [],
   "source": [
    "study = optuna.create_study(direction='maximize')\n",
    "study.optimize(objective, n_trials=30)"
   ]
  },
  {
   "cell_type": "code",
   "execution_count": 183,
   "metadata": {},
   "outputs": [
    {
     "name": "stdout",
     "output_type": "stream",
     "text": [
      "Best hyperparameters: {'n_estimators': 24, 'learning_rate': 0.04844588167427297, 'depth': 8, 'subsample': 0.5508340455386153, 'min_data_in_leaf': 5}\n",
      "Best AUC: 0.8928366031597348\n"
     ]
    }
   ],
   "source": [
    "print('Best hyperparameters:', study.best_params)\n",
    "print('Best AUC:', study.best_value)"
   ]
  },
  {
   "cell_type": "markdown",
   "metadata": {},
   "source": [
    "тест"
   ]
  },
  {
   "cell_type": "code",
   "execution_count": 28,
   "metadata": {},
   "outputs": [],
   "source": [
    "params = {\n",
    "    'early_stopping_rounds': 100,\n",
    "    'loss_function': 'YetiRankPairwise', \n",
    "    'custom_metric': 'NDCG',\n",
    "    'task_type': 'GPU',\n",
    "    'bootstrap_type': 'Bernoulli',\n",
    "    'verbose': False\n",
    "}\n",
    "\n",
    "suggested_params = {\n",
    "    \"n_estimators\": 24,\n",
    "    \"learning_rate\": 0.04844588167427297,\n",
    "    \"depth\": 8,\n",
    "    \"subsample\": 0.5508340455386153,\n",
    "    \"min_data_in_leaf\": 5\n",
    "}\n",
    "\n",
    "params.update(suggested_params)\n",
    "\n",
    "model = CatBoostRanker(**params)"
   ]
  },
  {
   "cell_type": "code",
   "execution_count": 17,
   "metadata": {},
   "outputs": [],
   "source": [
    "train = Pool(\n",
    "    data=X_train,\n",
    "    cat_features=list(cat_columns.values),\n",
    "    label=y_train,\n",
    "    feature_names=list(X_train.columns.values),\n",
    "    group_id=train_id\n",
    ")\n",
    "val = Pool(\n",
    "    data=X_val,\n",
    "    cat_features=list(cat_columns.values),\n",
    "    label=y_val,\n",
    "    feature_names=list(X_val.columns.values),\n",
    "    group_id=val_id\n",
    ")\n",
    "test = Pool(\n",
    "    data=X_test,\n",
    "    cat_features=list(cat_columns.values),\n",
    "    label=y_test,\n",
    "    feature_names=list(X_test.columns.values),\n",
    "    group_id=test_id\n",
    ")"
   ]
  },
  {
   "cell_type": "code",
   "execution_count": null,
   "metadata": {},
   "outputs": [],
   "source": [
    "model.fit(train, eval_set=val)"
   ]
  },
  {
   "cell_type": "code",
   "execution_count": 19,
   "metadata": {},
   "outputs": [
    {
     "data": {
      "text/plain": [
       "0.8928054503092204"
      ]
     },
     "execution_count": 19,
     "metadata": {},
     "output_type": "execute_result"
    }
   ],
   "source": [
    "model.score(test)"
   ]
  },
  {
   "cell_type": "markdown",
   "metadata": {},
   "source": [
    "### CatBoost Ranker PairLogitPairwise NDCG"
   ]
  },
  {
   "cell_type": "markdown",
   "metadata": {},
   "source": [
    "обучение"
   ]
  },
  {
   "cell_type": "code",
   "execution_count": 188,
   "metadata": {},
   "outputs": [],
   "source": [
    "def objective(trial):\n",
    "    params = {\n",
    "        'early_stopping_rounds': 100,\n",
    "        'loss_function': 'PairLogitPairwise', \n",
    "        'custom_metric': 'NDCG',\n",
    "        'task_type': 'GPU',\n",
    "        'bootstrap_type': 'Bernoulli',\n",
    "        'verbose': False\n",
    "    }\n",
    "    \n",
    "    suggested_params = {\n",
    "        \"n_estimators\": trial.suggest_int(\"n_estimators\", 10, 50),\n",
    "        \"learning_rate\": trial.suggest_float(\"learning_rate\", 1e-2, 0.1, log=True),\n",
    "        \"depth\": trial.suggest_int(\"depth\", 5, 8),\n",
    "        \"subsample\": trial.suggest_float(\"subsample\", 0.4, 0.6),\n",
    "        \"min_data_in_leaf\": trial.suggest_int(\"min_data_in_leaf\", 1, 20)\n",
    "    }\n",
    "    \n",
    "    params.update(suggested_params)\n",
    "    \n",
    "    model = CatBoostRanker(**params)\n",
    "\n",
    "    return ranker_cv_ndcg_score(model,\n",
    "                                X_train, y_train, train_id,\n",
    "                                X_val, y_val, val_id).mean()"
   ]
  },
  {
   "cell_type": "code",
   "execution_count": null,
   "metadata": {},
   "outputs": [],
   "source": [
    "study = optuna.create_study(direction='maximize')\n",
    "study.optimize(objective, n_trials=30)"
   ]
  },
  {
   "cell_type": "code",
   "execution_count": 190,
   "metadata": {},
   "outputs": [
    {
     "name": "stdout",
     "output_type": "stream",
     "text": [
      "Best hyperparameters: {'n_estimators': 50, 'learning_rate': 0.01670697238865847, 'depth': 6, 'subsample': 0.4109271239396233, 'min_data_in_leaf': 2}\n",
      "Best AUC: 0.8947521252641739\n"
     ]
    }
   ],
   "source": [
    "print('Best hyperparameters:', study.best_params)\n",
    "print('Best AUC:', study.best_value)"
   ]
  },
  {
   "cell_type": "markdown",
   "metadata": {},
   "source": [
    "тест"
   ]
  },
  {
   "cell_type": "code",
   "execution_count": 51,
   "metadata": {},
   "outputs": [],
   "source": [
    "params = {\n",
    "    'early_stopping_rounds': 100,\n",
    "    'loss_function': 'PairLogitPairwise', \n",
    "    'custom_metric': 'NDCG',\n",
    "    'task_type': 'GPU',\n",
    "    'bootstrap_type': 'Bernoulli',\n",
    "    'verbose': False\n",
    "}\n",
    "\n",
    "suggested_params = {\n",
    "    \"n_estimators\": 50,\n",
    "    \"learning_rate\": 0.01670697238865847,\n",
    "    \"depth\": 6,\n",
    "    \"subsample\": 0.4109271239396233,\n",
    "    \"min_data_in_leaf\": 2\n",
    "}\n",
    "\n",
    "params.update(suggested_params)\n",
    "\n",
    "model = CatBoostRanker(**params)"
   ]
  },
  {
   "cell_type": "code",
   "execution_count": 21,
   "metadata": {},
   "outputs": [],
   "source": [
    "train = Pool(\n",
    "    data=X_train,\n",
    "    cat_features=list(cat_columns.values),\n",
    "    label=y_train,\n",
    "    feature_names=list(X_train.columns.values),\n",
    "    group_id=train_id\n",
    ")\n",
    "val = Pool(\n",
    "    data=X_val,\n",
    "    cat_features=list(cat_columns.values),\n",
    "    label=y_val,\n",
    "    feature_names=list(X_val.columns.values),\n",
    "    group_id=val_id\n",
    ")\n",
    "test = Pool(\n",
    "    data=X_test,\n",
    "    cat_features=list(cat_columns.values),\n",
    "    label=y_test,\n",
    "    feature_names=list(X_test.columns.values),\n",
    "    group_id=test_id\n",
    ")"
   ]
  },
  {
   "cell_type": "code",
   "execution_count": null,
   "metadata": {},
   "outputs": [],
   "source": [
    "model.fit(train, eval_set=val)"
   ]
  },
  {
   "cell_type": "code",
   "execution_count": 23,
   "metadata": {},
   "outputs": [
    {
     "data": {
      "text/plain": [
       "0.8911608502259913"
      ]
     },
     "execution_count": 23,
     "metadata": {},
     "output_type": "execute_result"
    }
   ],
   "source": [
    "model.score(test)"
   ]
  },
  {
   "cell_type": "markdown",
   "metadata": {},
   "source": [
    "### Обучение лучшей модели и подсчет NDCG"
   ]
  },
  {
   "cell_type": "markdown",
   "metadata": {},
   "source": [
    "согласно тестам на отложенной выборке, лучшей себя показала модель CatBoostRanker с лосс функцией YetiRankPairwise с параметрами, отпимизируемыми по метрике NDCG.  \n",
    "ее гиперпараметры ниже"
   ]
  },
  {
   "cell_type": "code",
   "execution_count": 64,
   "metadata": {},
   "outputs": [],
   "source": [
    "params = {\n",
    "    'early_stopping_rounds': 100,\n",
    "    'loss_function': 'PairLogitPairwise', \n",
    "    'custom_metric': 'NDCG',\n",
    "    'task_type': 'GPU',\n",
    "    'bootstrap_type': 'Bernoulli',\n",
    "    'verbose': False\n",
    "}\n",
    "\n",
    "suggested_params = {\n",
    "    \"n_estimators\": 50,\n",
    "    \"learning_rate\": 0.01670697238865847,\n",
    "    \"depth\": 6,\n",
    "    \"subsample\": 0.4109271239396233,\n",
    "    \"min_data_in_leaf\": 2\n",
    "}\n",
    "\n",
    "params.update(suggested_params)\n",
    "\n",
    "model = CatBoostRanker(**params)"
   ]
  },
  {
   "cell_type": "code",
   "execution_count": 65,
   "metadata": {},
   "outputs": [],
   "source": [
    "train = Pool(\n",
    "    data=pd.concat([X_train, X_test]),\n",
    "    cat_features=list(cat_columns.values),\n",
    "    label=pd.concat([y_train, y_test]),\n",
    "    feature_names=list(X_train.columns.values),\n",
    "    group_id=pd.concat([train_id, test_id])\n",
    ")\n",
    "val = Pool(\n",
    "    data=X_val,\n",
    "    cat_features=list(cat_columns.values),\n",
    "    label=y_val,\n",
    "    feature_names=list(X_val.columns.values),\n",
    "    group_id=val_id\n",
    ")\n",
    "test = Pool(\n",
    "    data=X_test_final,\n",
    "    cat_features=list(cat_columns.values),\n",
    "    label=y_test_final,\n",
    "    feature_names=list(X_test_final.columns.values),\n",
    "    group_id=test_final_id\n",
    ")"
   ]
  },
  {
   "cell_type": "code",
   "execution_count": null,
   "metadata": {},
   "outputs": [],
   "source": [
    "model.fit(train, eval_set=val)"
   ]
  },
  {
   "cell_type": "markdown",
   "metadata": {},
   "source": [
    "NDCG на тестовом датасете (CatboostRanker.score() по-умолчянию вычисляет NDCG метрику)"
   ]
  },
  {
   "cell_type": "code",
   "execution_count": 67,
   "metadata": {},
   "outputs": [
    {
     "data": {
      "text/plain": [
       "0.8981937747939522"
      ]
     },
     "execution_count": 67,
     "metadata": {},
     "output_type": "execute_result"
    }
   ],
   "source": [
    "model.score(test)"
   ]
  }
 ],
 "metadata": {
  "kernelspec": {
   "display_name": "Python 3",
   "language": "python",
   "name": "python3"
  },
  "language_info": {
   "codemirror_mode": {
    "name": "ipython",
    "version": 3
   },
   "file_extension": ".py",
   "mimetype": "text/x-python",
   "name": "python",
   "nbconvert_exporter": "python",
   "pygments_lexer": "ipython3",
   "version": "3.11.5"
  }
 },
 "nbformat": 4,
 "nbformat_minor": 2
}
